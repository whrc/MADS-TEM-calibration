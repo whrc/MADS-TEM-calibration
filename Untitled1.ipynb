{
 "cells": [
  {
   "cell_type": "code",
   "execution_count": 11,
   "id": "3f4d6281",
   "metadata": {},
   "outputs": [
    {
     "name": "stderr",
     "output_type": "stream",
     "text": [
      "/Users/anaconda3/lib/python3.8/site-packages/scipy/__init__.py:138: UserWarning: A NumPy version >=1.16.5 and <1.23.0 is required for this version of SciPy (detected version 1.24.4)\n",
      "  warnings.warn(f\"A NumPy version >={np_minversion} and <{np_maxversion} is required for this version of \"\n"
     ]
    },
    {
     "ename": "ModuleNotFoundError",
     "evalue": "No module named 'param_util'",
     "output_type": "error",
     "traceback": [
      "\u001b[0;31m---------------------------------------------------------------------------\u001b[0m",
      "\u001b[0;31mModuleNotFoundError\u001b[0m                       Traceback (most recent call last)",
      "\u001b[0;32m<ipython-input-11-b5509d1e88c8>\u001b[0m in \u001b[0;36m<module>\u001b[0;34m\u001b[0m\n\u001b[1;32m      4\u001b[0m \u001b[0;32mimport\u001b[0m \u001b[0mnumpy\u001b[0m \u001b[0;32mas\u001b[0m \u001b[0mnp\u001b[0m\u001b[0;34m\u001b[0m\u001b[0;34m\u001b[0m\u001b[0m\n\u001b[1;32m      5\u001b[0m \u001b[0;32mimport\u001b[0m \u001b[0mpandas\u001b[0m \u001b[0;32mas\u001b[0m \u001b[0mpd\u001b[0m\u001b[0;34m\u001b[0m\u001b[0;34m\u001b[0m\u001b[0m\n\u001b[0;32m----> 6\u001b[0;31m \u001b[0;32mimport\u001b[0m \u001b[0mmads_sensitivity\u001b[0m \u001b[0;32mas\u001b[0m \u001b[0mSensitivity\u001b[0m\u001b[0;34m\u001b[0m\u001b[0;34m\u001b[0m\u001b[0m\n\u001b[0m",
      "\u001b[0;32m~/projects/github_clean/clean/dvm-dos-tem/mads_calibration/mads_sensitivity.py\u001b[0m in \u001b[0;36m<module>\u001b[0;34m\u001b[0m\n\u001b[1;32m     31\u001b[0m \u001b[0;32mfrom\u001b[0m \u001b[0mcontextlib\u001b[0m \u001b[0;32mimport\u001b[0m \u001b[0mcontextmanager\u001b[0m\u001b[0;34m\u001b[0m\u001b[0;34m\u001b[0m\u001b[0m\n\u001b[1;32m     32\u001b[0m \u001b[0;34m\u001b[0m\u001b[0m\n\u001b[0;32m---> 33\u001b[0;31m \u001b[0;32mimport\u001b[0m \u001b[0mparam_util\u001b[0m \u001b[0;32mas\u001b[0m \u001b[0mpu\u001b[0m\u001b[0;34m\u001b[0m\u001b[0;34m\u001b[0m\u001b[0m\n\u001b[0m\u001b[1;32m     34\u001b[0m \u001b[0;32mimport\u001b[0m \u001b[0moutput_utils\u001b[0m \u001b[0;32mas\u001b[0m \u001b[0mou\u001b[0m\u001b[0;34m\u001b[0m\u001b[0;34m\u001b[0m\u001b[0m\n\u001b[1;32m     35\u001b[0m \u001b[0;34m\u001b[0m\u001b[0m\n",
      "\u001b[0;31mModuleNotFoundError\u001b[0m: No module named 'param_util'"
     ]
    }
   ],
   "source": [
    "import os,sys\n",
    "import json\n",
    "import yaml\n",
    "import numpy as np\n",
    "import pandas as pd\n",
    "import mads_sensitivity as Sensitivity"
   ]
  },
  {
   "cell_type": "code",
   "execution_count": 8,
   "id": "e8b7483c",
   "metadata": {},
   "outputs": [
    {
     "name": "stdout",
     "output_type": "stream",
     "text": [
      "/Users/EJafarov/projects/github_clean/clean/dvm-dos-tem\n"
     ]
    }
   ],
   "source": [
    "cd /Users/EJafarov/projects/github_clean/clean/dvm-dos-tem/mads_calibration"
   ]
  },
  {
   "cell_type": "code",
   "execution_count": 10,
   "id": "767556aa",
   "metadata": {},
   "outputs": [
    {
     "name": "stdout",
     "output_type": "stream",
     "text": [
      "/Users/EJafarov/projects/github_clean/clean/dvm-dos-tem/mads_calibration\n"
     ]
    }
   ],
   "source": [
    "cd mads_calibration/\n"
   ]
  },
  {
   "cell_type": "code",
   "execution_count": 9,
   "id": "6d99f91c",
   "metadata": {},
   "outputs": [
    {
     "name": "stdout",
     "output_type": "stream",
     "text": [
      "AC3-STEP1-MD1.jl              \u001b[34mdocs_src\u001b[m\u001b[m/\r\n",
      "CONTRIBUTORS                  \u001b[34measyconfigs\u001b[m\u001b[m/\r\n",
      "Dockerfile                    \u001b[34menv-setup-scripts\u001b[m\u001b[m/\r\n",
      "Dockerfile-mapping-support    \u001b[34minclude\u001b[m\u001b[m/\r\n",
      "HOWTO_RELEASE.md              \u001b[34mmads_calibration\u001b[m\u001b[m/\r\n",
      "LICENSE                       \u001b[34mparameters\u001b[m\u001b[m/\r\n",
      "Makefile                      requirements_general_dev.txt\r\n",
      "README.md                     requirements_mapping.txt\r\n",
      "SConstruct                    \u001b[31mrun_ddt.sh\u001b[m\u001b[m*\r\n",
      "\u001b[34mbuild\u001b[m\u001b[m/                        \u001b[34mscripts\u001b[m\u001b[m/\r\n",
      "\u001b[34mcalibration\u001b[m\u001b[m/                  \u001b[34mspecial_configurations\u001b[m\u001b[m/\r\n",
      "\u001b[34mconfig\u001b[m\u001b[m/                       \u001b[34msrc\u001b[m\u001b[m/\r\n",
      "\u001b[34mdemo-data\u001b[m\u001b[m/                    \u001b[34mtests\u001b[m\u001b[m/\r\n",
      "\u001b[31mdocker-build-wrapper.sh\u001b[m\u001b[m*      utils.py\r\n",
      "docker-compose.yml            \u001b[34mvirtualmachines\u001b[m\u001b[m/\r\n"
     ]
    }
   ],
   "source": [
    "ls"
   ]
  },
  {
   "cell_type": "code",
   "execution_count": null,
   "id": "0bc29719",
   "metadata": {},
   "outputs": [],
   "source": [
    "  def generate_loguniform(self, N):\n",
    "    '''\n",
    "    Generate sample matrix using log-uniform method.\n",
    "\n",
    "    Sample matrix will have one row for each \"sample\" of the\n",
    "    parameters. There will be one column for each parameter in\n",
    "    the `param_props` list.\n",
    "\n",
    "    Parameters\n",
    "    ----------\n",
    "    N : int\n",
    "      number of samples (rows) to create\n",
    "\n",
    "    params : list of dicts\n",
    "      Each item in `param_props` list will be a dictionary\n",
    "      with at least the following:\n",
    "      >>> params = {\n",
    "      ...   'name': 'kdcsomcr',               # name in dvmdostem parameter file (cmt_*.txt)\n",
    "      ...   'bounds': [1e-5, 1e-10],     # the min and max values the parameter can have\n",
    "      ... }\n",
    "\n",
    "    Returns\n",
    "    -------\n",
    "    sample_matrix : pandas.DataFrame, shape (N, len(params))\n",
    "      There will be one column for each parameter in the\n",
    "      `param_props` list and N rows (samples).\n",
    "    '''\n",
    "    self.sampling_method = 'loguniform'\n",
    "    loguniform_samples = np.transpose(np.array([loguniform.rvs(p['bounds'][0],p['bounds'][1],size=N) for p in self.params]))\n",
    "    \n",
    "    print(loguniform_samples)\n",
    "    print(np.shape(loguniform_samples))\n",
    "\n",
    "    self.sample_matrix = pd.DataFrame(loguniform_samples, columns=[p['name'] for p in self.params])"
   ]
  }
 ],
 "metadata": {
  "kernelspec": {
   "display_name": "Python 3",
   "language": "python",
   "name": "python3"
  },
  "language_info": {
   "codemirror_mode": {
    "name": "ipython",
    "version": 3
   },
   "file_extension": ".py",
   "mimetype": "text/x-python",
   "name": "python",
   "nbconvert_exporter": "python",
   "pygments_lexer": "ipython3",
   "version": "3.8.8"
  }
 },
 "nbformat": 4,
 "nbformat_minor": 5
}
